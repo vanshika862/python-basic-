{
  "nbformat": 4,
  "nbformat_minor": 0,
  "metadata": {
    "colab": {
      "provenance": []
    },
    "kernelspec": {
      "name": "python3",
      "display_name": "Python 3"
    },
    "language_info": {
      "name": "python"
    }
  },
  "cells": [
    {
      "cell_type": "code",
      "execution_count": null,
      "metadata": {
        "id": "an1FAdDn_d95"
      },
      "outputs": [],
      "source": []
    },
    {
      "cell_type": "markdown",
      "source": [
        "#functions"
      ],
      "metadata": {
        "id": "WIRt5069KQhh"
      }
    },
    {
      "cell_type": "markdown",
      "source": [
        "Section 1: python basics questions\n",
        "\n",
        "Q.1 What is python, and why is it popular\n",
        "\n",
        "ans: python is ainterpretes progrmming language known for its simplycity and readibilty.\n",
        "python is used for variety of purposes such as software programmes, data amaysis, robotic, web development, genratibe ai , machin learinig,\n",
        "wht python - it is widely used in the data industry, it has lot of libraries, , it is easy to learn, it makes simple and readable syntax , python runs on multiple operating systems without modification. python is acase sensitive programming langauage\n",
        "\n",
        "Q.2 What is an imterpreter in python ?\n",
        "\n",
        "ans: An interpreter in python is a program thet reads and excutes python code line by line It translates the high level python code into machine readable instructions.\n",
        "\n",
        "Q.3 what are predefined keywords in python ?\n",
        "\n",
        "Ans: Keywords in python are the special words which holds a special meaning and hace specific purposes. keywords  in the python are written in lower case except true and false , The keyword cannot be used as an idetnifer , function, or variable name, function and identifers\n",
        "examples - none, and , as, assert, await, break, clas"
      ],
      "metadata": {
        "id": "O1-87jX0KVXw"
      }
    },
    {
      "cell_type": "code",
      "source": [
        "help('keywords')"
      ],
      "metadata": {
        "colab": {
          "base_uri": "https://localhost:8080/"
        },
        "id": "V3bKVGoHKUhY",
        "outputId": "1ccf522a-d83b-4048-e67f-436836b05027"
      },
      "execution_count": 1,
      "outputs": [
        {
          "output_type": "stream",
          "name": "stdout",
          "text": [
            "\n",
            "Here is a list of the Python keywords.  Enter any keyword to get more help.\n",
            "\n",
            "False               class               from                or\n",
            "None                continue            global              pass\n",
            "True                def                 if                  raise\n",
            "and                 del                 import              return\n",
            "as                  elif                in                  try\n",
            "assert              else                is                  while\n",
            "async               except              lambda              with\n",
            "await               finally             nonlocal            yield\n",
            "break               for                 not                 \n",
            "\n"
          ]
        }
      ]
    },
    {
      "cell_type": "markdown",
      "source": [
        "Q.4Can keywords be used as a vaiable names ?\n",
        "\n",
        "Ans: No, keywords cannot be used a variavle names in python.\n",
        "keywords are reserved words the have a specific and special role and have a predefind roles in python and these are the part of syntax.\n",
        "\n",
        "Q.5 what is mutability in python ?\n",
        "\n",
        "Ans; Mutability in python refers to the ability of a containers or object to cange after it is created .\n",
        "\n",
        "Objects whose state or value can be cahnged after they are created are called as a mutable objects\n",
        "examples- list  supports the item assignment\n",
        "\n",
        "Objects whose state or value cannot be changed after they are created are called inmutable objects\n",
        "example- string and tuples\n",
        "\n",
        "Q.6 Why are list mutable and tuples are inmutable?\n",
        "\n",
        "Ans: List are utable because they are  used when we need a collection of times that acn be cahnged overtime wheras tuples are used for fixed , unchangeable collection of items and hence inmutable.\n",
        "\n",
        "Q.7 what is the dffernce between \"==\" and 'is\" operators in python ?\n",
        "\n",
        "Ans: In python == known as equalityopertaor compares the values of ue objects to check if they are equal\n",
        "\n",
        "is known as  identify opertor comapre the memorry address  of two objects to check if they are the same object in memory.\n",
        "\n",
        "Q.8 what are logical operators in python /\n",
        "\n",
        "ans: logical opertors are of three types AND , OR ans NOT\n",
        "In and opertor  both the statements should be true  and in or operator any one statement should be true.\n",
        "\n",
        " q.9 what is typecasting in python ?\n",
        "\n",
        "Ans: type casting is th method to covert the python variavle data type into a specific data type. It is aprocess of cahnge tje datatype of an object.\n",
        "typecasting is of two types-\n",
        "1 implicit tyecasting - python understand the data type\n",
        "2 explicit typecasting caonvert datatype  \n",
        "\n",
        "Q.10 What is the differnce between implicit and explicit typecasting ?\n",
        "Ans: Implicit data type - python automaticaaly converts one dattype into other without requiring the usser to do it\n",
        "\n",
        "x= 5 integer\n",
        "y= 5.5 float\n",
        "x+y coverts x (int) to float\n",
        "=7.5\n",
        "\n",
        "Explicit  data type - convert datatype using implict typecsting\n",
        "\n",
        "Q.11 what is the purpose of conditional satements in python\n",
        "\n",
        "Ans: The purpose of condiotinal statements in python is to allow the program to amke decisons and execute specific block of code based on weathger condition is true or false\n",
        "types of conditonal statement-\n",
        "if statement\n",
        "else sattement\n",
        "elif statment\n",
        "\n",
        "Q.12How does the elif statement work\n",
        "\n",
        "Ans: The elif statement stand for else if , it allows ypu to check multiple conditions in sequence, If the condition of the if sattement is false , python checks the conditions of ach elif in orer  , if onr of the elif condition is true the corresponding block of code is executed.\n",
        "\n",
        "Q.13What is the differnce between for and while loop\n",
        "\n",
        "Ans: For loop: it is used for iterating over a sequence  , It is typically used whwn the number of iterations is known for predetermind, for item in seuemce syntax used is # code block\n",
        "\n",
        "While loop: It runs as long as condition is tue\n",
        "It is typically usd when the number is iterations is unknwon and deoends in condition  syntax usd is\n",
        "While condition # code block\n",
        "\n",
        "\n",
        "\n",
        "\n",
        "\n"
      ],
      "metadata": {
        "id": "39AH65qEOFD-"
      }
    },
    {
      "cell_type": "markdown",
      "source": [
        "Section 2: Pytjon practical questions\n"
      ],
      "metadata": {
        "id": "NR5q0PMOYTSx"
      }
    },
    {
      "cell_type": "markdown",
      "source": [
        "Q1 wrote a python program to print \"hello world!"
      ],
      "metadata": {
        "id": "VDCEg1smYei-"
      }
    },
    {
      "cell_type": "code",
      "source": [
        "#ans\n",
        "print(\"hello world\")"
      ],
      "metadata": {
        "colab": {
          "base_uri": "https://localhost:8080/"
        },
        "id": "z0wpJ-20Yqb2",
        "outputId": "42ac3344-d2bb-4709-c8a2-6db03a5af4ee"
      },
      "execution_count": 2,
      "outputs": [
        {
          "output_type": "stream",
          "name": "stdout",
          "text": [
            "hello world\n"
          ]
        }
      ]
    },
    {
      "cell_type": "markdown",
      "source": [
        "Q.2 Write a python program that displays ypur name and age"
      ],
      "metadata": {
        "id": "U0123J3EY9W1"
      }
    },
    {
      "cell_type": "code",
      "source": [
        "#ans\n",
        "name = vanshika\n",
        "age = 22\n",
        "print(\"hi my name is; \"name,age\")\n",
        "\n"
      ],
      "metadata": {
        "id": "Wr8_UzTbZHxW"
      },
      "execution_count": null,
      "outputs": []
    },
    {
      "cell_type": "markdown",
      "source": [
        "q.3 Write code to print all the predefined keywords in python using the keyword libary"
      ],
      "metadata": {
        "id": "JJzcvspeaTJs"
      }
    },
    {
      "cell_type": "code",
      "source": [
        "#ans\n",
        "help('keyword')"
      ],
      "metadata": {
        "id": "NHP_Hnn8afBV"
      },
      "execution_count": null,
      "outputs": []
    },
    {
      "cell_type": "markdown",
      "source": [
        "Q.4 Write a programm that checks if a given word is a pyhton keyword"
      ],
      "metadata": {
        "id": "v1O8JLBwaons"
      }
    },
    {
      "cell_type": "code",
      "source": [
        "#ans\n",
        "import keyword\n",
        "word = input (\"enter  a word ;\")\n",
        "if keyword.iskeyword(word):\n",
        "  print(f\"{word} is a python keyword.\")\n",
        "  else :\n",
        "    print(f\"{word} is not a python keyword.\")"
      ],
      "metadata": {
        "id": "eXrrTJ4ebGmM"
      },
      "execution_count": null,
      "outputs": []
    },
    {
      "cell_type": "markdown",
      "source": [
        "q.6 Write afunction to dmonstrate the behaviour ofmutable and immutable arguments"
      ],
      "metadata": {
        "id": "fs5FnKP0cf56"
      }
    },
    {
      "cell_type": "code",
      "source": [
        "#ans\n",
        "#function to modify a mutable object (list)\n",
        "def modify-list(1st):\n",
        "  1st.append(4)\n",
        "\n",
        "  #function to modify an immutable object (string)\n",
        "  def modify-string\n",
        "  s+= \"world \""
      ],
      "metadata": {
        "id": "qj5srCRkc48b"
      },
      "execution_count": null,
      "outputs": []
    },
    {
      "cell_type": "markdown",
      "source": [
        "Q7 Write a program that performs basic arihmetic operations on two iser input numbers"
      ],
      "metadata": {
        "id": "zuC4XWwRd10y"
      }
    },
    {
      "cell_type": "code",
      "source": [
        "num1 = int(input(\"enter first number:\"))\n",
        "num2 = int(input(\"enter second number\"))\n",
        "print(\"addition:\", num1+num2)\n",
        "print(\"substraction:\", num1-num2)\n",
        "print(\"multiplication:\" , num1*num2)\n",
        "print(\"division:\" , num1/num2)"
      ],
      "metadata": {
        "id": "mr2YA_NxeAIq"
      },
      "execution_count": null,
      "outputs": []
    },
    {
      "cell_type": "markdown",
      "source": [
        "Q.8 Write a programm to demonstratethe use of logical operators"
      ],
      "metadata": {
        "id": "Y3gOP7BCfawY"
      }
    },
    {
      "cell_type": "code",
      "source": [
        "#ans\n",
        "x = 10\n",
        "y = 20\n",
        "# and operator  (both conditions must be true)\n",
        "if x > 5 and y < 30:\n",
        "  print (\"returns true if both conditions are true\")\n",
        "\n",
        "  # or operator (at least one condtion  must be true)\n",
        "  if x < 5 or y > 15:\n",
        "    print(\"returns true if  at  least one  condition  is true\")\n",
        "\n",
        "    # not operator (reverses the condition  returns  the opposite  of the condition )\n",
        "    if not (x > 15) :\n",
        "      print(\"x is not greater than 15\")"
      ],
      "metadata": {
        "id": "VXN7fFZ1f2-y"
      },
      "execution_count": null,
      "outputs": []
    },
    {
      "cell_type": "markdown",
      "source": [
        "q.9 write a python programto connvert user input  from string to integer , float, and boolean types"
      ],
      "metadata": {
        "id": "yRGOhKq9h402"
      }
    },
    {
      "cell_type": "code",
      "source": [
        "#ans\n",
        "#get input from the user (input is always a string)\n",
        "user_input = input('enter a value:')\n",
        "\n",
        "#convert to integer\n",
        "int_value = int (user-input)\n",
        "print(\"integer: \" , int_value)\n",
        "# convert to float\n",
        "float_value = float(user_input)\n",
        "print(\"float:\" , float_value)\n",
        "\n",
        "#convert to boolean\n",
        "bool_value = bool(user_input)\n",
        "print (\"boolean:\" , bool_value)"
      ],
      "metadata": {
        "id": "JQF7hMAtiPIO"
      },
      "execution_count": null,
      "outputs": []
    },
    {
      "cell_type": "markdown",
      "source": [
        "Q10 Write code  to demonstrate type casting with list elements"
      ],
      "metadata": {
        "id": "NBOjH9DRj__-"
      }
    },
    {
      "cell_type": "code",
      "source": [
        "#ans\n",
        "str_list = [\"10\" , \"20\" , \"30\"]\n",
        "int_list = list(map(int,m str_list))\n",
        "print(\"list of integers:\" ,int_list)"
      ],
      "metadata": {
        "id": "7d4yDmXukfOM"
      },
      "execution_count": null,
      "outputs": []
    },
    {
      "cell_type": "markdown",
      "source": [
        "Q11 Write a program taht checks if a number is positive , negative , o zero"
      ],
      "metadata": {
        "id": "DtrzD9ULlBDk"
      }
    },
    {
      "cell_type": "code",
      "source": [
        "#ans\n",
        "number = float(input(\"enter a number :\"))\n",
        "if number > 0:\n",
        "  print(\"the number is positive\")\n",
        "  elif number < 0:\n",
        "    print(\"the number is negative\")\n",
        "    else:\n",
        "      print(\"the number is zero\")"
      ],
      "metadata": {
        "id": "4jLz4F8klObe"
      },
      "execution_count": null,
      "outputs": []
    },
    {
      "cell_type": "markdown",
      "source": [
        "Q12 write a for loop tp print  numbers from 1 to 10"
      ],
      "metadata": {
        "id": "IP-UBFjtl3Cv"
      }
    },
    {
      "cell_type": "code",
      "source": [
        "#ans\n",
        "for i in range (1 , 11) :\n",
        "  print(i)"
      ],
      "metadata": {
        "id": "68vHenVLmoZb"
      },
      "execution_count": null,
      "outputs": []
    },
    {
      "cell_type": "markdown",
      "source": [
        "q13 write a python program to find  the sum of all even numbers between 1 and 50"
      ],
      "metadata": {
        "id": "kp5CRM5pngrb"
      }
    },
    {
      "cell_type": "code",
      "source": [
        "#ans\n",
        "# initalize sum variable\n",
        "even_sum = 0\n",
        "# loop through number from 1 to 50\n",
        "for num in range(1 , 51):\n",
        "  if num % 2 == 0:\n",
        "    even_sum += num\n",
        "    # print the sum of even numbers\n",
        "    print(\"sum of all even numbers between 1 and 50 :\" , even_sum)\n"
      ],
      "metadata": {
        "id": "cUEWynOJntCl"
      },
      "execution_count": null,
      "outputs": []
    },
    {
      "cell_type": "code",
      "source": [],
      "metadata": {
        "id": "FkW6eEJmoiaC"
      },
      "execution_count": null,
      "outputs": []
    }
  ]
}